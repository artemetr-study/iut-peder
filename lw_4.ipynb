{
 "cells": [
  {
   "cell_type": "markdown",
   "metadata": {
    "collapsed": true,
    "pycharm": {
     "name": "#%% md\n"
    }
   },
   "source": [
    "# Лабораторная работа 4 - Построение двухфакторного эксперимента с использованием квадратичной модели\n",
    "*Широких Артем - АСОиУб-18-1*\n",
    "\n",
    "## Задание\n",
    "\n",
    "1. Составить матрицу планирования ортогонального центральнокомпозиционного плана для двух факторов с использованием дополнительного нулевого фактора ($х_0=1$).\n",
    "2. Провести эксперимент, повторив 5 раз опыты во всех точках факторного пространства (найти значения функции отклика Y согласно варианту, выданному преподавателем).\n",
    "3. Проверить однородность дисперсии по критерию Кохрена и, если необходимо, подобрать такое m (m – кратность проведения опытов, не больше 5), чтобы дисперсия была однородной.\n",
    "4. Найти коэффициенты уравнения регрессии для нормализованной системы координат.\n",
    "5. С помощью критерия Стьюдента оценить значимость коэффициентов регрессии.\n",
    "6. Проверить адекватность модели оригиналу с помощью критерия Фишера."
   ]
  },
  {
   "cell_type": "markdown",
   "source": [
    "## Решение\n",
    "\n",
    "### 1. Матрица планирования ОЦКП для двух факторов с использованием дополнительного нулевого фактора ($х_0=1$)\n",
    "\n",
    "Составляем ОЦКП для двух факторов с использованием дополнительного нулевого фактора ($х_0=1$)."
   ],
   "metadata": {
    "collapsed": false
   }
  },
  {
   "cell_type": "code",
   "execution_count": 130,
   "metadata": {
    "pycharm": {
     "name": "#%%\n"
    }
   },
   "outputs": [
    {
     "name": "stdout",
     "output_type": "stream",
     "text": [
      "[[1, 1, 1, 1, 1, 1, 1, 1, 1],\n",
      " [-1, 1, -1, 1, -1, 1, 0, 0, 0],\n",
      " [-1, -1, 1, 1, 0, 0, -1, 1, 0],\n",
      " [1, 1, 1, 1, 1, 1, 0, 0, 0],\n",
      " [1, 1, 1, 1, 0, 0, 1, 1, 0],\n",
      " [1, -1, -1, 1, 0, 0, 0, 0, 0]]\n"
     ]
    }
   ],
   "source": [
    "from pprint import pprint\n",
    "\n",
    "x = [\n",
    "    [1 for i in range(9)],\n",
    "    [-1, 1, -1, 1, -1, 1, 0, 0, 0],\n",
    "    [-1, -1, 1, 1, 0, 0, -1, 1, 0]\n",
    "]\n",
    "\n",
    "x.append([x1_i ** 2 for x1_i in x[1]])\n",
    "x.append([x2_i ** 2 for x2_i in x[2]])\n",
    "x.append([x1_i * x2_i for x1_i, x2_i in zip(x[1], x[2])])\n",
    "\n",
    "pprint(x)"
   ]
  },
  {
   "cell_type": "markdown",
   "metadata": {},
   "source": [
    "Центрируем переменные квадратичных членов для обеспечения ортогональности.\n",
    "\n",
    "$ \\beta=\\frac{1}{N}\\sum X_{4_i} $"
   ]
  },
  {
   "cell_type": "code",
   "execution_count": 131,
   "metadata": {
    "pycharm": {
     "name": "#%%\n"
    }
   },
   "outputs": [
    {
     "name": "stdout",
     "output_type": "stream",
     "text": [
      "9\n",
      "0.6666666666666666\n"
     ]
    }
   ],
   "source": [
    "n = len(x[0])\n",
    "beta = 1 / n * sum(x[4])\n",
    "\n",
    "pprint(n)\n",
    "print(beta)"
   ]
  },
  {
   "cell_type": "markdown",
   "metadata": {},
   "source": [
    "Используя найденные значения, составляем новую таблицу для ОЦКП.\n",
    "Для $x_3$ и $x_4$ рассчитываем значения по формуле $x'_{i_j} = x_{i_j} - \\beta$."
   ]
  },
  {
   "cell_type": "code",
   "execution_count": 132,
   "metadata": {
    "pycharm": {
     "name": "#%%\n"
    }
   },
   "outputs": [
    {
     "name": "stdout",
     "output_type": "stream",
     "text": [
      "[[1, 1, 1, 1, 1, 1, 1, 1, 1],\n",
      " [-1, 1, -1, 1, -1, 1, 0, 0, 0],\n",
      " [-1, -1, 1, 1, 0, 0, -1, 1, 0],\n",
      " [0.33333333333333337,\n",
      "  0.33333333333333337,\n",
      "  0.33333333333333337,\n",
      "  0.33333333333333337,\n",
      "  0.33333333333333337,\n",
      "  0.33333333333333337,\n",
      "  -0.6666666666666666,\n",
      "  -0.6666666666666666,\n",
      "  -0.6666666666666666],\n",
      " [0.33333333333333337,\n",
      "  0.33333333333333337,\n",
      "  0.33333333333333337,\n",
      "  0.33333333333333337,\n",
      "  -0.6666666666666666,\n",
      "  -0.6666666666666666,\n",
      "  0.33333333333333337,\n",
      "  0.33333333333333337,\n",
      "  -0.6666666666666666],\n",
      " [1, -1, -1, 1, 0, 0, 0, 0, 0]]\n"
     ]
    }
   ],
   "source": [
    "e_x = x\n",
    "e_x[3] = [x3_i - beta for x3_i in x[3]]\n",
    "e_x[4] = [x4_i - beta for x4_i in x[4]]\n",
    "\n",
    "pprint(e_x)"
   ]
  },
  {
   "cell_type": "markdown",
   "metadata": {},
   "source": [
    "Проверим ортогональность переменных, в случае ортогональности переменные будут удовлетворять данному выражению\n",
    "\n",
    "$\\sum x'_{3_j}*x'_{4_j} = 0$"
   ]
  },
  {
   "cell_type": "code",
   "execution_count": 133,
   "metadata": {
    "pycharm": {
     "name": "#%%\n"
    }
   },
   "outputs": [
    {
     "name": "stdout",
     "output_type": "stream",
     "text": [
      "0.0\n"
     ]
    }
   ],
   "source": [
    "is_ort = sum(x3_i * x4_i for x3_i, x4_i in zip(e_x[3], e_x[4]))\n",
    "\n",
    "print(is_ort)"
   ]
  },
  {
   "cell_type": "markdown",
   "metadata": {},
   "source": [
    "### 2. Эксперимент во всех точках факторного пространства значение функции отклика Y\n",
    "\n",
    "Пусть дана выборка результатов эксперимента, представленная показателем Y."
   ]
  },
  {
   "cell_type": "code",
   "execution_count": 134,
   "metadata": {
    "pycharm": {
     "name": "#%%\n"
    }
   },
   "outputs": [
    {
     "name": "stdout",
     "output_type": "stream",
     "text": [
      "[[3.004, 3.031, 3.035, 3.039, 3.001],\n",
      " [5.193, 5.152, 5.177, 5.209, 5.151],\n",
      " [3.927, 3.95, 3.936, 3.898, 3.897],\n",
      " [7.141, 7.099, 7.111, 7.138, 7.097],\n",
      " [4.684, 4.697, 4.688, 4.73, 4.729],\n",
      " [9.135, 9.123, 9.166, 9.134, 9.117],\n",
      " [6.371, 6.403, 6.343, 6.339, 6.337],\n",
      " [14.672, 14.68, 14.695, 14.668, 14.672],\n",
      " [5.828, 5.847, 5.842, 5.905, 5.886]]\n"
     ]
    }
   ],
   "source": [
    "from statistics import mean\n",
    "\n",
    "y = [\n",
    "    [3.004, 3.031, 3.035, 3.039, 3.001],\n",
    "    [5.193, 5.152, 5.177, 5.209, 5.151],\n",
    "    [3.927, 3.95, 3.936, 3.898, 3.897],\n",
    "    [7.141, 7.099, 7.111, 7.138, 7.097],\n",
    "    [4.684, 4.697, 4.688, 4.73, 4.729],\n",
    "    [9.135, 9.123, 9.166, 9.134, 9.117],\n",
    "    [6.371, 6.403, 6.343, 6.339, 6.337],\n",
    "    [14.672, 14.68, 14.695, 14.668, 14.672],\n",
    "    [5.828, 5.847, 5.842, 5.905, 5.886]\n",
    "]\n",
    "\n",
    "pprint(y)"
   ]
  },
  {
   "cell_type": "markdown",
   "metadata": {},
   "source": [
    "Посчитаем средние значения функций отклика.\n",
    "\n",
    "$\\overline{y_i} = \\frac{\\sum y_{i_j}}{v}$"
   ]
  },
  {
   "cell_type": "code",
   "execution_count": 135,
   "metadata": {
    "pycharm": {
     "name": "#%%\n"
    }
   },
   "outputs": [
    {
     "name": "stdout",
     "output_type": "stream",
     "text": [
      "[3.0220000000000002,\n",
      " 5.1764,\n",
      " 3.9216,\n",
      " 7.1172,\n",
      " 4.7056000000000004,\n",
      " 9.135,\n",
      " 6.3586,\n",
      " 14.6774,\n",
      " 5.8616]\n"
     ]
    }
   ],
   "source": [
    "y_mean = [mean(y_i) for y_i in y]\n",
    "\n",
    "pprint(y_mean)"
   ]
  },
  {
   "cell_type": "markdown",
   "source": [
    "Посчитаем дисперсии.\n",
    "\n",
    "$S^2_i = \\frac{\\sum (y_{i_j} - \\overline{y_i})^2}{v - 1}$"
   ],
   "metadata": {
    "collapsed": false
   }
  },
  {
   "cell_type": "code",
   "execution_count": 136,
   "outputs": [
    {
     "name": "stdout",
     "output_type": "stream",
     "text": [
      "[0.0003260000000000039,\n",
      " 0.0006447999999999915,\n",
      " 0.0005513000000000032,\n",
      " 0.0004441999999999938,\n",
      " 0.0004983000000000066,\n",
      " 0.00035750000000000164,\n",
      " 0.0008047999999999925,\n",
      " 0.00011580000000000238,\n",
      " 0.0010513000000000024]\n"
     ]
    }
   ],
   "source": [
    "y_disp = [sum([(y_i_j - y_i_mean) ** 2 for y_i_j in y_i]) / (len(y_i) - 1) for y_i, y_i_mean in zip(y, y_mean)]\n",
    "\n",
    "pprint(y_disp)"
   ],
   "metadata": {
    "collapsed": false,
    "pycharm": {
     "name": "#%%\n"
    }
   }
  },
  {
   "cell_type": "markdown",
   "source": [
    "### 3. Проверка однородности по критерию Кохрена\n",
    "\n",
    "Для проверки необходимо посчитать критерий Кохрена получаемый из данных по таблице."
   ],
   "metadata": {
    "collapsed": false,
    "pycharm": {
     "name": "#%% md\n"
    }
   }
  },
  {
   "cell_type": "code",
   "execution_count": 137,
   "outputs": [
    {
     "name": "stdout",
     "output_type": "stream",
     "text": [
      "0.21929495202336313\n"
     ]
    }
   ],
   "source": [
    "g = max(y_disp) / sum(y_disp)\n",
    "\n",
    "print(g)"
   ],
   "metadata": {
    "collapsed": false,
    "pycharm": {
     "name": "#%%\n"
    }
   }
  },
  {
   "cell_type": "markdown",
   "source": [
    "$G \\approx 0.219$\n",
    "\n",
    "$G_{крит} = 0.3584$ - табличное значение критерия Кохрена (при $k = 9, f = 4$)\n",
    "\n",
    "Так как $G < G_{крит}$, то дисперсия является однородной."
   ],
   "metadata": {
    "collapsed": false,
    "pycharm": {
     "name": "#%% md\n"
    }
   }
  },
  {
   "cell_type": "markdown",
   "source": [
    "### 4. Коэффициенты уравнения регрессии для нормализованной системы координат\n",
    "\n",
    "Рассчитаем оценки коэффициентов регрессии."
   ],
   "metadata": {
    "collapsed": false
   }
  },
  {
   "cell_type": "code",
   "execution_count": 138,
   "outputs": [
    {
     "name": "stdout",
     "output_type": "stream",
     "text": [
      "[0, 1.6298999999999997, 1.859866666666667, -3.452899999999998, 0.1448000000000016, 0.2603]\n",
      "6.6639333333333335\n"
     ]
    }
   ],
   "source": [
    "c = [1/6, 1/6, 1/2, 1/2, 1/4]\n",
    "\n",
    "a = [0] + [c[i] * sum([x_i_j * y_i_mean for x_i_j, y_i_mean in zip(e_x[i + 1], y_mean)]) for i in range(5)]\n",
    "\n",
    "print(a)\n",
    "\n",
    "b_0 = mean(y_mean)\n",
    "\n",
    "print(b_0)"
   ],
   "metadata": {
    "collapsed": false,
    "pycharm": {
     "name": "#%%\n"
    }
   }
  },
  {
   "cell_type": "markdown",
   "source": [
    "$\\overline{b}_0 \\approx 6.664$\n",
    "\n",
    "Подставим рассчитанные коэффициенты в уравнение регрессии и получим значение $\\widetilde{Y_i}$."
   ],
   "metadata": {
    "collapsed": false,
    "pycharm": {
     "name": "#%% md\n"
    }
   }
  },
  {
   "cell_type": "code",
   "execution_count": 139,
   "outputs": [
    {
     "name": "stdout",
     "output_type": "stream",
     "text": [
      "[2.3317666666666685, 5.070966666666667, 5.530900000000003, 9.311300000000001, 3.7865333333333338, 7.046333333333333, 7.154266666666666, 10.873999999999999, 8.86933333333333]\n"
     ]
    }
   ],
   "source": [
    "e_y_mean = [b_0 + sum([a[j] * e_x[j][i] for j in range(len(a))]) for i in range(len(y))]\n",
    "\n",
    "print(e_y_mean)"
   ],
   "metadata": {
    "collapsed": false,
    "pycharm": {
     "name": "#%%\n"
    }
   }
  },
  {
   "cell_type": "markdown",
   "source": [
    "Рассчитаем ошибки дисперсий ошибок наблюдения по формуле $S^2=\\frac{\\sum (\\widetilde{Y_i} - \\overline{Y_i})^2}{N-k-1}$."
   ],
   "metadata": {
    "collapsed": false,
    "pycharm": {
     "name": "#%% md\n"
    }
   }
  },
  {
   "cell_type": "code",
   "execution_count": 140,
   "outputs": [
    {
     "name": "stdout",
     "output_type": "stream",
     "text": [
      "13435.570100597675\n"
     ]
    }
   ],
   "source": [
    "S = sum([(y_i_mean * e_y_i_mean) ** 2 for y_i_mean, e_y_i_mean in zip(y_mean, e_y_mean)]) / (9 - 5 - 1)\n",
    "\n",
    "print(S)"
   ],
   "metadata": {
    "collapsed": false,
    "pycharm": {
     "name": "#%%\n"
    }
   }
  },
  {
   "cell_type": "markdown",
   "source": [
    "$S^2 \\approx 13435.57$\n",
    "\n",
    "Рассчитаем оценку $\\widehat{a}_0 = \\widehat{b}_0 - \\beta \\sum a_{i + 1}$."
   ],
   "metadata": {
    "collapsed": false,
    "pycharm": {
     "name": "#%% md\n"
    }
   }
  },
  {
   "cell_type": "code",
   "execution_count": 141,
   "outputs": [
    {
     "name": "stdout",
     "output_type": "stream",
     "text": [
      "6.369288888888887\n"
     ]
    }
   ],
   "source": [
    "a_0 = b_0 - beta * sum(a)\n",
    "\n",
    "print(a_0)"
   ],
   "metadata": {
    "collapsed": false,
    "pycharm": {
     "name": "#%%\n"
    }
   }
  },
  {
   "cell_type": "markdown",
   "source": [
    "$\\widehat{a}_0 \\approx 6.369$"
   ],
   "metadata": {
    "collapsed": false,
    "pycharm": {
     "name": "#%% md\n"
    }
   }
  },
  {
   "cell_type": "markdown",
   "source": [
    "### 5. Оценка значимости коэффициентов регрессии\n",
    "\n",
    "Рассчитаем дисперсию воспроизводимости"
   ],
   "metadata": {
    "collapsed": false,
    "pycharm": {
     "name": "#%% md\n"
    }
   }
  },
  {
   "cell_type": "code",
   "execution_count": 142,
   "outputs": [
    {
     "name": "stdout",
     "output_type": "stream",
     "text": [
      "[1492.8411222886305, 2239.2616834329456, 6717.785050298838, 3358.892525149419]\n"
     ]
    }
   ],
   "source": [
    "S_pow = [i * S for i in [1/9, 1/6, 1/2, 1/4]]\n",
    "\n",
    "print(S_pow)"
   ],
   "metadata": {
    "collapsed": false,
    "pycharm": {
     "name": "#%%\n"
    }
   }
  },
  {
   "cell_type": "markdown",
   "source": [
    "### 6. Проверка адекватности модели с помощью критерия Фишера\n",
    "\n",
    "Найдём остаточную дисперсию по формуле $S^2_{ост} = \\frac{\\sum(y_{4_i} - y_{5_i})^2}{N - L}$."
   ],
   "metadata": {
    "collapsed": false,
    "pycharm": {
     "name": "#%% md\n"
    }
   }
  },
  {
   "cell_type": "code",
   "execution_count": 143,
   "outputs": [
    {
     "name": "stdout",
     "output_type": "stream",
     "text": [
      "0.0017902499999999898\n"
     ]
    }
   ],
   "source": [
    "S_last = sum([(y_4_i - y_5_i) ** 2 for y_4_i, y_5_i in zip([y_i[3] for y_i in y], [y_i[4] for y_i in y])]) / (n - len(c))\n",
    "\n",
    "print(S_last)"
   ],
   "metadata": {
    "collapsed": false,
    "pycharm": {
     "name": "#%%\n"
    }
   }
  },
  {
   "cell_type": "markdown",
   "source": [
    "$S^2_{ост} \\approx 0.00179$"
   ],
   "metadata": {
    "collapsed": false,
    "pycharm": {
     "name": "#%% md\n"
    }
   }
  },
  {
   "cell_type": "code",
   "execution_count": 144,
   "outputs": [
    {
     "name": "stdout",
     "output_type": "stream",
     "text": [
      "3.0\n"
     ]
    }
   ],
   "source": [
    "F = sum([(y_i_mean * e_y_i_mean) ** 2 for y_i_mean, e_y_i_mean in zip(y_mean, e_y_mean)]) / S\n",
    "\n",
    "print(F)"
   ],
   "metadata": {
    "collapsed": false,
    "pycharm": {
     "name": "#%%\n"
    }
   }
  },
  {
   "cell_type": "markdown",
   "source": [
    "$F = 3$\n",
    "\n",
    "$F_{табл} = 6.39$ при уровне значимости $0.05$\n",
    "\n",
    "Так как расчётное значение $F = 3$ меньше табличного $F_{табл} = 6.39$ то модель\n",
    "считается адекватной."
   ],
   "metadata": {
    "collapsed": false,
    "pycharm": {
     "name": "#%% md\n"
    }
   }
  }
 ],
 "metadata": {
  "kernelspec": {
   "display_name": "Python 3",
   "language": "python",
   "name": "python3"
  },
  "language_info": {
   "codemirror_mode": {
    "name": "ipython",
    "version": 3
   },
   "file_extension": ".py",
   "mimetype": "text/x-python",
   "name": "python",
   "nbconvert_exporter": "python",
   "pygments_lexer": "ipython3",
   "version": "3.7.8"
  }
 },
 "nbformat": 4,
 "nbformat_minor": 1
}