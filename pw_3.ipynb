{
 "cells": [
  {
   "cell_type": "markdown",
   "source": [
    "# Практическая работа 3\n",
    "*Широких Артем - АСОиУб-18-1*\n",
    "\n",
    "### Цель\n",
    "Изучить приемы оценки достоверности коэффициента корреляции\n",
    "\n",
    "## Задание\n",
    "\n",
    "> Замеренный выход концентрата γ в зависимости от его качества β характеризуется приведенным ниже рядом. Определить коэффициент ранговой корреляции между этими двумя факторами."
   ],
   "metadata": {
    "collapsed": false
   }
  },
  {
   "cell_type": "code",
   "execution_count": 6,
   "outputs": [],
   "source": [
    "data = {\n",
    "    'exit': [46.6, 45.6, 46.5, 45.9, 45.7, 45.8, 48.0, 47.3, 47.1],\n",
    "    'quality': [63.0, 63.2, 61.8, 63.8, 63.4, 63.6, 65.3, 63.8, 64.4]\n",
    "}"
   ],
   "metadata": {
    "collapsed": false,
    "pycharm": {
     "name": "#%%\n"
    }
   }
  },
  {
   "cell_type": "markdown",
   "source": [
    "## Решение\n",
    "\n",
    "Присвоим ранги приведенным признакам"
   ],
   "metadata": {
    "collapsed": false
   }
  },
  {
   "cell_type": "code",
   "execution_count": 7,
   "outputs": [
    {
     "name": "stdout",
     "output_type": "stream",
     "text": [
      "[6, 1, 5, 4, 2, 3, 9, 8, 7]\n",
      "[2, 3, 1, 6, 4, 5, 9, 6, 8]\n"
     ]
    }
   ],
   "source": [
    "sorted_exit = sorted(data['exit'])\n",
    "sorted_quality = sorted(data['quality'])\n",
    "data['exit_rank'] = [sorted_exit.index(exit_value) + 1 for exit_value in data['exit']]\n",
    "data['quality_rank'] = [sorted_quality.index(quality_value) + 1 for quality_value in data['quality']]\n",
    "print(data['exit_rank'])\n",
    "print(data['quality_rank'])"
   ],
   "metadata": {
    "collapsed": false,
    "pycharm": {
     "name": "#%%\n"
    }
   }
  },
  {
   "cell_type": "markdown",
   "source": [
    "Найдем квадраты разности для рангов"
   ],
   "metadata": {
    "collapsed": false
   }
  },
  {
   "cell_type": "code",
   "execution_count": 8,
   "outputs": [
    {
     "name": "stdout",
     "output_type": "stream",
     "text": [
      "[16, 4, 16, 4, 4, 4, 0, 4, 1]\n"
     ]
    }
   ],
   "source": [
    "diff_power = [(exit_rank - quality_rank) ** 2 for exit_rank, quality_rank in zip(data['exit_rank'], data['quality_rank'])]\n",
    "print(diff_power)"
   ],
   "metadata": {
    "collapsed": false,
    "pycharm": {
     "name": "#%%\n"
    }
   }
  },
  {
   "cell_type": "markdown",
   "source": [
    "Вычислим коэффициент ранговой корреляции"
   ],
   "metadata": {
    "collapsed": false
   }
  },
  {
   "cell_type": "code",
   "execution_count": 9,
   "outputs": [
    {
     "name": "stdout",
     "output_type": "stream",
     "text": [
      "0.5583333333333333\n"
     ]
    }
   ],
   "source": [
    "p = 1 - 6 * sum(diff_power) / (len(diff_power) * (len(diff_power) ** 2 - 1))\n",
    "print(p)"
   ],
   "metadata": {
    "collapsed": false,
    "pycharm": {
     "name": "#%%\n"
    }
   }
  },
  {
   "cell_type": "markdown",
   "source": [
    "$ρ \\approx 0.5$"
   ],
   "metadata": {
    "collapsed": false
   }
  },
  {
   "cell_type": "markdown",
   "source": [
    "Проверим значимость коэффициента, сравним полученную его величину с допустимой"
   ],
   "metadata": {
    "collapsed": false
   }
  },
  {
   "cell_type": "code",
   "execution_count": 10,
   "outputs": [
    {
     "name": "stdout",
     "output_type": "stream",
     "text": [
      "0.6791053526515602\n"
     ]
    }
   ],
   "source": [
    "p_t = 1.96 / ((len(diff_power) - 1) ** (1 / 2)) * (len(diff_power) - 1.16) / (len(diff_power) - 1)\n",
    "print(p_t)"
   ],
   "metadata": {
    "collapsed": false,
    "pycharm": {
     "name": "#%%\n"
    }
   }
  },
  {
   "cell_type": "markdown",
   "source": [
    "$ρ^* \\approx 0.6$\n",
    "\n",
    "Так как $p < p^*$, это значит что коэффициент не значим.\n",
    "\n",
    "## Контрольные вопросы\n",
    "\n",
    "### 1 В каких случаях коэффициент корреляции равен нулю и связей нет?\n",
    "Коэффициент корреляции равен нулю при отсутствии корреляционных связей между переменными.\n",
    "### 2 Напишите формулу коэффициента ранговой корреляции.\n",
    "$ρ = 1 - \\frac{\\sum\\Delta^2}{n(n - 1)}$\n",
    "### 3 По какой формуле определяется допустимая величина коэффициента ранговой корреляции?\n",
    "$ρ_ρ^* = \\frac{t_ρ}{\\sqrt{n - 1}}[1 - \\frac{0.19}{n-1}(t_ρ^2 - 3)]$\n",
    "### 4 Как определить статистическую значимость коэффициента?\n",
    "Коэффициент корреляции является значимым при $p > p^*$.\n",
    "### 5 Для чего производится ранжирование параметров?\n",
    "Предложенный Кендэлом коэффициент строится на основе отношений типа «больше–меньше», справедливость которых установлена при построении шкал.\n",
    "Такая реализация позволяет используя ранжирование при расчете коэффициента не выполнять никаких предположений о характере распределений признаков в генеральной совокупности, что существенно упрощает работу."
   ],
   "metadata": {
    "collapsed": false
   }
  }
 ],
 "metadata": {
  "kernelspec": {
   "display_name": "Python 3",
   "language": "python",
   "name": "python3"
  },
  "language_info": {
   "codemirror_mode": {
    "name": "ipython",
    "version": 2
   },
   "file_extension": ".py",
   "mimetype": "text/x-python",
   "name": "python",
   "nbconvert_exporter": "python",
   "pygments_lexer": "ipython2",
   "version": "2.7.6"
  }
 },
 "nbformat": 4,
 "nbformat_minor": 0
}