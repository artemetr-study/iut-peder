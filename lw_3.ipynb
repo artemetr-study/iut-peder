{
 "cells": [
  {
   "cell_type": "markdown",
   "metadata": {
    "collapsed": true,
    "pycharm": {
     "name": "#%% md\n"
    }
   },
   "source": [
    "# Лабораторная работа 3 - Нелинейная регрессия\n",
    "*Широких Артем - АСОиУб-18-1*\n",
    "\n",
    "## Задание\n",
    "\n",
    "Для заданных данных провести нелинейную регрессию общего вида для\n",
    "\n",
    "$f(x) = ax + b/x$\n",
    "\n",
    "$f_1(x) = ax^2 + bx + c$\n",
    "\n",
    "$f_3(x) = ae^{-bx} + ab$"
   ]
  },
  {
   "cell_type": "code",
   "execution_count": 51,
   "metadata": {
    "pycharm": {
     "name": "#%%\n"
    }
   },
   "outputs": [
    {
     "name": "stdout",
     "output_type": "stream",
     "text": [
      "{x: 4, y: 5}\n",
      "[3, 5, 5, 4]\n"
     ]
    }
   ],
   "source": [
    "class MatrixSize:\n",
    "    def __init__(self, x: int, y: int):\n",
    "        self.x = x\n",
    "        self.y = y\n",
    "\n",
    "    def __str__(self):\n",
    "        return '{' + f'x: {self.x}, y: {self.y}' + '}'\n",
    "\n",
    "class Data:\n",
    "    def __init__(self, matrix: list):\n",
    "        self.matrix = matrix\n",
    "        self.matrix_size = MatrixSize(x=len(self.matrix[0]), y=len(self.matrix))\n",
    "        self.q = [sum([1 for i in range(self.matrix_size.y) if self.matrix[i][j]]) for j in range(self.matrix_size.x)]\n",
    "\n",
    "\n",
    "data = Data([\n",
    "    [0, 87, 83, 77],\n",
    "    [0, 91, 85, 76],\n",
    "    [97, 86, 82, 77],\n",
    "    [92, 88, 84, 79],\n",
    "    [95, 80, 81, 0],\n",
    "])\n",
    "\n",
    "print(data.matrix_size)\n",
    "print(data.q)"
   ]
  },
  {
   "cell_type": "markdown",
   "metadata": {},
   "source": [
    "## Решение\n",
    "\n",
    "Найдем $N$ общее количество результатов испытаний"
   ]
  },
  {
   "cell_type": "code",
   "execution_count": 52,
   "metadata": {
    "pycharm": {
     "name": "#%%\n"
    }
   },
   "outputs": [
    {
     "name": "stdout",
     "output_type": "stream",
     "text": [
      "17\n"
     ]
    }
   ],
   "source": [
    "n = sum(data.q)\n",
    "print(n)"
   ]
  },
  {
   "cell_type": "markdown",
   "metadata": {},
   "source": [
    "Определим сумму значений величины $x$ на уровне $A_j$"
   ]
  },
  {
   "cell_type": "code",
   "execution_count": 53,
   "metadata": {
    "pycharm": {
     "name": "#%%\n"
    }
   },
   "outputs": [
    {
     "name": "stdout",
     "output_type": "stream",
     "text": [
      "[284, 432, 415, 309]\n"
     ]
    }
   ],
   "source": [
    "r = [sum([data.matrix[i][j] for i in range(data.matrix_size.y)]) for j in range(data.matrix_size.x)]\n",
    "# r[0] = 97\n",
    "print(r)"
   ]
  },
  {
   "cell_type": "markdown",
   "metadata": {},
   "source": [
    "Определим сумму квадратов значений величины $x$ на уровне $A_j$"
   ]
  },
  {
   "cell_type": "code",
   "execution_count": 54,
   "metadata": {
    "pycharm": {
     "name": "#%%\n"
    }
   },
   "outputs": [
    {
     "name": "stdout",
     "output_type": "stream",
     "text": [
      "[26898, 37390, 34455, 23875]\n"
     ]
    }
   ],
   "source": [
    "p = [sum([data.matrix[i][j] ** 2 for i in range(data.matrix_size.y)]) for j in range(data.matrix_size.x)]\n",
    "# p = [9409, 37380, 34460, 23880]\n",
    "print(p)"
   ]
  },
  {
   "cell_type": "markdown",
   "metadata": {},
   "source": [
    "Определим факторную и остаточные дисперсии"
   ]
  },
  {
   "cell_type": "code",
   "execution_count": 55,
   "metadata": {
    "pycharm": {
     "name": "#%%\n"
    }
   },
   "outputs": [
    {
     "name": "stdout",
     "output_type": "stream",
     "text": [
      "182.9709150326768\n",
      "30.87222222222287\n"
     ]
    }
   ],
   "source": [
    "r_square_divided_q = [(r[j] ** 2) / data.q[j] for j in range(data.matrix_size.x)]\n",
    "\n",
    "s_fact = (sum(r_square_divided_q) - ((sum(r) ** 2) / n)) / (data.matrix_size.x - 1)\n",
    "print(s_fact)\n",
    "\n",
    "s_ost = (sum(p) - sum(r_square_divided_q)) / (data.matrix_size.x - 1)\n",
    "print(s_ost)"
   ]
  },
  {
   "cell_type": "markdown",
   "metadata": {},
   "source": [
    "$S_{fact} \\approx 182.971$\n",
    "\n",
    "$S_{ost} \\approx 30.872$\n",
    "\n",
    "Т.к. $S_{fact} > S_{ost}$, то следует проверить значимость различий между этими дисперсиями.\n",
    "\n",
    "Вычислим экспериментальное значение критерия."
   ]
  },
  {
   "cell_type": "code",
   "execution_count": 56,
   "metadata": {
    "pycharm": {
     "name": "#%%\n"
    }
   },
   "outputs": [
    {
     "name": "stdout",
     "output_type": "stream",
     "text": [
      "5.926716700716417\n"
     ]
    }
   ],
   "source": [
    "f_exp = s_fact / s_ost\n",
    "print(f_exp)"
   ]
  },
  {
   "cell_type": "markdown",
   "metadata": {
    "pycharm": {
     "name": "#%% md\n"
    }
   },
   "source": [
    "$F_{exp} \\approx 5.927$\n",
    "\n",
    "$\\alpha = 0.05$\n",
    "\n",
    "$F_{kr} = qF(\\alpha, l, n - 1) = 0.115$\n",
    "\n",
    "$F_{exp} > F_{kr}$\n",
    "\n",
    "Т.к. $F_{exp} > F_{kr}$, различие между факторной и остаточной дисперсиями является значимым (при $p=0.05$). В соответствии с методом дисперсионного анализа нулевую гипотезу о равенстве групповых средних следует отвергнуть, т.е. различия между групповыми средними значимы, что соответствует наличию существенного различия между эффективностью воздействия рентгеновского облучения на темп размножения бактерий по задаче.\n",
    "\n",
    "Вывод: исходя из полученных результатов можно утверждать, что рассматриваемый физический фактор оказыает существенное влияние на размножение бактерий."
   ]
  }
 ],
 "metadata": {
  "kernelspec": {
   "display_name": "Python 3",
   "language": "python",
   "name": "python3"
  },
  "language_info": {
   "codemirror_mode": {
    "name": "ipython",
    "version": 3
   },
   "file_extension": ".py",
   "mimetype": "text/x-python",
   "name": "python",
   "nbconvert_exporter": "python",
   "pygments_lexer": "ipython3",
   "version": "3.7.8"
  }
 },
 "nbformat": 4,
 "nbformat_minor": 1
}